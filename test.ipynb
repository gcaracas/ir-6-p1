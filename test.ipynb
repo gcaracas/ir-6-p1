{
 "cells": [
  {
   "cell_type": "code",
   "execution_count": 16,
   "metadata": {},
   "outputs": [],
   "source": [
    "import pandas as pd\n",
    "import numpy as np\n",
    "from nltk.corpus import stopwords\n",
    "from nltk.tokenize import TweetTokenizer\n",
    "from sklearn.feature_extraction.text import TfidfVectorizer\n",
    "\n",
    "from sklearn.feature_extraction.text import TfidfTransformer\n",
    "from sklearn.feature_extraction.text import CountVectorizer\n",
    "\n",
    "from collections import Counter as cnt\n",
    "import string\n",
    "from nltk.stem.porter import PorterStemmer\n",
    "import nltk\n",
    "from sklearn.metrics.pairwise import linear_kernel\n",
    "from preprocess import preprocessing\n",
    "import csv\n",
    "import matplotlib.pyplot as plt\n",
    "import pickle\n"
   ]
  },
  {
   "cell_type": "code",
   "execution_count": 2,
   "metadata": {},
   "outputs": [
    {
     "data": {
      "text/plain": [
       "(388798, 6)"
      ]
     },
     "execution_count": 2,
     "metadata": {},
     "output_type": "execute_result"
    }
   ],
   "source": [
    "all_dev=((pd.read_csv('data/devSet.csv')).dropna())\n",
    "all_dev.shape"
   ]
  },
  {
   "cell_type": "code",
   "execution_count": 3,
   "metadata": {},
   "outputs": [],
   "source": [
    "train=all_dev.sample(frac=0.95, replace=False, random_state=1)"
   ]
  },
  {
   "cell_type": "code",
   "execution_count": 4,
   "metadata": {},
   "outputs": [],
   "source": [
    "dev=(all_dev[~all_dev.isin(train)].dropna())"
   ]
  },
  {
   "cell_type": "code",
   "execution_count": 5,
   "metadata": {},
   "outputs": [
    {
     "data": {
      "text/plain": [
       "((369358, 6), (19440, 6))"
      ]
     },
     "execution_count": 5,
     "metadata": {},
     "output_type": "execute_result"
    }
   ],
   "source": [
    "train.shape, dev.shape"
   ]
  },
  {
   "cell_type": "code",
   "execution_count": 6,
   "metadata": {},
   "outputs": [],
   "source": [
    "def create_model(train=''):\n",
    "    l_q1=list(train.question1)\n",
    "    l_q2=list(train.question2)\n",
    "    l_words=l_q1+l_q2\n",
    "\n",
    "    # Preprocess text\n",
    "    pre = preprocessing()\n",
    "    prep_words=[pre.the_works(text=q) for q in l_words]\n",
    "    \n",
    "    # Join tokens per question (That's how the \n",
    "    # td-idf vectorizer works)\n",
    "    joined_words=[\" \".join(q) for q in prep_words]\n",
    "    # Buld Model]\n",
    "    \n",
    "    # create word counts first and TF\n",
    "    cv=CountVectorizer(lowercase=False)\n",
    "    # this steps generates word counts for the words\n",
    "    word_count_vector=cv.fit_transform(joined_words)\n",
    "    \n",
    "    # Now let's generate IDF values\n",
    "    tfidf_transformer=TfidfTransformer(smooth_idf=True,use_idf=True)\n",
    "    tfidf_transformer.fit(word_count_vector)\n",
    "    \n",
    "    # Visualize in dataframe the vector\n",
    "    #df_idf = pd.DataFrame(tfidf_transformer.idf_, index=cv.get_feature_names(),columns=[\"idf_weights\"])\n",
    "    # sort ascending\n",
    "    #return df_idf.sort_values(by=['idf_weights'])\n",
    "    \n",
    "    # Compute TF-IDF\n",
    "    # count matrix\n",
    "    count_vector=cv.transform(joined_words)\n",
    " \n",
    "    # tf-idf scores\n",
    "    tf_idf_vector=tfidf_transformer.transform(count_vector)\n",
    "    \n",
    "    return cv, tfidf_transformer"
   ]
  },
  {
   "cell_type": "code",
   "execution_count": 7,
   "metadata": {},
   "outputs": [],
   "source": [
    "def evaluate(threshold=0.0, test='', cv='', tfidf_transformer=''):\n",
    "    global results_test\n",
    "    tl_q1=list(test.question1)\n",
    "    tl_q2=list(test.question2)\n",
    "    dup = list(test.is_duplicate)\n",
    "    pre = preprocessing()\n",
    "    correct=0\n",
    "    total=0\n",
    "    for l_q1, l_q2,is_dup in zip(tl_q1, tl_q2, dup):\n",
    "        \n",
    "        # Preprocess text\n",
    "        prep_q1=pre.the_works(text=l_q1)\n",
    "        prep_q2=pre.the_works(text=l_q2)\n",
    "        # Validation, after removal of\n",
    "        # stop words, we can get into a situation\n",
    "        # of having an empty string\n",
    "        if prep_q1 is np.nan: continue\n",
    "        if prep_q2 is np.nan: continue\n",
    "        if len(prep_q1) == 0: continue\n",
    "        if len(prep_q2) == 0: continue\n",
    "        joined_q1 = \" \".join(prep_q1)\n",
    "        joined_q2 = \" \".join(prep_q2)\n",
    "\n",
    "        total=total+1\n",
    "        count_vector1=cv.transform([joined_q1])\n",
    "        count_vector2=cv.transform([joined_q2])\n",
    "        # tf-idf scores\n",
    "        final_vector1=tfidf_transformer.transform(count_vector1)\n",
    "        final_vector2=tfidf_transformer.transform(count_vector2)\n",
    "\n",
    "\n",
    "        cosine_similarities = linear_kernel(final_vector1[0], final_vector2[0]).flatten()\n",
    "        print(cosine_similarities[0])\n",
    "        if cosine_similarities[0] > threshold:\n",
    "            #results_test.append((id, 1))\n",
    "            correct=correct+1\n",
    "        #else:\n",
    "            #results_test.append((id, 0))\n",
    "            \n",
    "        feature_names = cv.get_feature_names()\n",
    " \n",
    "        #get tfidf vector for first document\n",
    "        first_document_vector=final_vector1[0]\n",
    " \n",
    "        #print the scores\n",
    "        df = pd.DataFrame(first_document_vector.T.todense(), index=feature_names, columns=[\"tfidf\"])\n",
    "        df.sort_values(by=[\"tfidf\"],ascending=False)[0:4]\n",
    "    return correct/total, threshold"
   ]
  },
  {
   "cell_type": "code",
   "execution_count": 13,
   "metadata": {},
   "outputs": [],
   "source": [
    "def quick_eval(threshold=0.0, test='', cv='', tfidf_transformer=''):\n",
    "    global results_test\n",
    "    p_q1=[]\n",
    "    p_q2=[]\n",
    "    tl_q1=list(test.question1)\n",
    "    tl_q2=list(test.question2)\n",
    "    dup = list(test.is_duplicate)\n",
    "    pre = preprocessing()\n",
    "    correct=0\n",
    "    total=0\n",
    "    tp=0\n",
    "    tn=0\n",
    "    fp=0\n",
    "    fn=0\n",
    "    for l_q1, l_q2,is_dup in zip(tl_q1, tl_q2, dup):\n",
    "        \n",
    "        # Preprocess text\n",
    "        prep_q1=pre.the_works(text=l_q1)\n",
    "        prep_q2=pre.the_works(text=l_q2)\n",
    "        # Validation, after removal of\n",
    "        # stop words, we can get into a situation\n",
    "        # of having an empty string\n",
    "        #if prep_q1 is np.nan: continue\n",
    "        #if prep_q2 is np.nan: continue\n",
    "        #if len(prep_q1) == 0: continue\n",
    "        #if len(prep_q2) == 0: continue\n",
    "        joined_q1 = \" \".join(prep_q1)\n",
    "        joined_q2 = \" \".join(prep_q2)\n",
    "        p_q1.append(joined_q1)\n",
    "        p_q2.append(joined_q2)\n",
    "    count_vector1=cv.transform(p_q1)\n",
    "    count_vector2=cv.transform(p_q2)\n",
    "    # tf-idf scores\n",
    "    final_vector1=tfidf_transformer.transform(count_vector1)\n",
    "    final_vector2=tfidf_transformer.transform(count_vector2)\n",
    "    cosine_similarities = linear_kernel(final_vector1, final_vector2).flatten()\n",
    "    total=0\n",
    "    correct=0\n",
    "    len_q=len(tl_q1)\n",
    "    for i in list(range(0, len_q)):\n",
    "        total=total+1\n",
    "        cosine_similarities = linear_kernel(final_vector1[i], final_vector2[i]).flatten()\n",
    "        if cosine_similarities[0] > threshold:\n",
    "            if dup[i]==1:\n",
    "                tp=tp+1\n",
    "            else:\n",
    "                fp=fp+1\n",
    "        else:\n",
    "            if dup[i]==0:\n",
    "                tn=tn+1\n",
    "            else:\n",
    "                fn=fn+1\n",
    "    return tp/len_q, tn/len_q, fp/len_q, fn/len_q, threshold\n"
   ]
  },
  {
   "cell_type": "code",
   "execution_count": 40,
   "metadata": {},
   "outputs": [],
   "source": [
    "def quick_submission(threshold=0.0, test='', cv='', tfidf_transformer=''):\n",
    "    global results_submitt\n",
    "    p_q1=[]\n",
    "    p_q2=[]\n",
    "    tl_q1=list(test.question1)\n",
    "    tl_q2=list(test.question2)\n",
    "    tl_id=list(test.id)\n",
    "    pre = preprocessing()\n",
    "    for l_q1, l_q2 in zip(tl_q1, tl_q2):\n",
    "        if l_q1 is np.nan: l_q1=''\n",
    "        if l_q2 is np.nan: l_q2=''\n",
    "        #if len(prep_q1) == 0: continue\n",
    "        #if len(prep_q2) == 0: continue\n",
    "        \n",
    "        # Preprocess text\n",
    "        #print(l_q1)\n",
    "        #print(l_q2)\n",
    "        #print('ll')\n",
    "        prep_q1=pre.the_works(text=l_q1)\n",
    "        prep_q2=pre.the_works(text=l_q2)\n",
    "        # Validation, after removal of\n",
    "        # stop words, we can get into a situation\n",
    "        # of having an empty string\n",
    "        #if prep_q1 is np.nan: continue\n",
    "        #if prep_q2 is np.nan: continue\n",
    "        #if len(prep_q1) == 0: continue\n",
    "        #if len(prep_q2) == 0: continue\n",
    "        joined_q1 = \" \".join(prep_q1)\n",
    "        joined_q2 = \" \".join(prep_q2)\n",
    "        p_q1.append(joined_q1)\n",
    "        p_q2.append(joined_q2)\n",
    "    count_vector1=cv.transform(p_q1)\n",
    "    count_vector2=cv.transform(p_q2)\n",
    "    # tf-idf scores\n",
    "    final_vector1=tfidf_transformer.transform(count_vector1)\n",
    "    final_vector2=tfidf_transformer.transform(count_vector2)\n",
    "    cosine_similarities = linear_kernel(final_vector1, final_vector2).flatten()\n",
    "    len_q=len(tl_q1)\n",
    "    for i in list(range(0, len_q)):\n",
    "        cosine_similarities = linear_kernel(final_vector1[i], final_vector2[i]).flatten()\n",
    "        if cosine_similarities[0] > threshold:\n",
    "            results_test.append((tl_id[i], 1))\n",
    "        else:\n",
    "            results_test.append((tl_id[i], 0))\n",
    "    return None\n"
   ]
  },
  {
   "cell_type": "code",
   "execution_count": 9,
   "metadata": {},
   "outputs": [],
   "source": [
    "cv, tfidf_transformer=create_model(train=train)"
   ]
  },
  {
   "cell_type": "code",
   "execution_count": 17,
   "metadata": {},
   "outputs": [],
   "source": [
    "pickle.dump( cv, open( \"model_cv.p\", \"wb\" ) )"
   ]
  },
  {
   "cell_type": "code",
   "execution_count": 18,
   "metadata": {},
   "outputs": [],
   "source": [
    "pickle.dump( tfidf_transformer, open( \"model_tfidf_transformer.p\", \"wb\" ) )"
   ]
  },
  {
   "cell_type": "code",
   "execution_count": 26,
   "metadata": {},
   "outputs": [
    {
     "name": "stdout",
     "output_type": "stream",
     "text": [
      "0\n",
      "1\n",
      "2\n",
      "3\n",
      "4\n",
      "5\n",
      "6\n",
      "7\n",
      "8\n",
      "9\n",
      "10\n",
      "11\n",
      "12\n",
      "13\n",
      "14\n",
      "15\n",
      "16\n",
      "17\n",
      "18\n",
      "19\n"
     ]
    }
   ],
   "source": [
    "samples = np.linspace(.0, 1, num=20)\n",
    "eval_thres=[]\n",
    "tpa=[]\n",
    "tna=[]\n",
    "fpa=[]\n",
    "fna=[]\n",
    "x=[]\n",
    "for i,t in enumerate(samples):\n",
    "    print(i)\n",
    "    results_test = []\n",
    "    #prec, thres = evaluate(threshold=t, test=dev, cv=cv, tfidf_transformer=tfidf_transformer)\n",
    "    tp,tn,fp,fn,threshold=quick_eval(threshold=t, test=dev, cv=cv, tfidf_transformer=tfidf_transformer)\n",
    "    tpa.append(tp)\n",
    "    tna.append(tn)\n",
    "    fpa.append(fp)\n",
    "    fna.append(fn)\n",
    "    x.append(t)"
   ]
  },
  {
   "cell_type": "code",
   "execution_count": 27,
   "metadata": {
    "scrolled": true
   },
   "outputs": [
    {
     "data": {
      "image/png": "[encoded data removed]",
      "text/plain": [
       "<Figure size 432x288 with 1 Axes>"
      ]
     },
     "metadata": {
      "needs_background": "light"
     },
     "output_type": "display_data"
    }
   ],
   "source": [
    "#fig, ax = plt.subplots(figsize=(8, 6), dpi=600)\n",
    "fig, ax = plt.subplots()\n",
    "ax.plot(x,tpa, label='TP')\n",
    "ax.plot(x,tna,label='TN')\n",
    "ax.plot(x,fpa,label='FP')\n",
    "ax.plot(x,fna,label='FN')\n",
    "\n",
    "ax.set(xlabel='Distractors', ylabel='Accuracy',\n",
    "title='Experiment 2, cutoff20, 5/5')\n",
    "ax.legend()\n",
    "#ax.set_ylim([0,1])\n",
    "#ax.xaxis.set_ticks(np.arange(0, 20, 1))\n",
    "ax.grid(True, zorder=5)\n",
    "#fig.savefig(\"results/exp2.png\")"
   ]
  },
  {
   "cell_type": "code",
   "execution_count": 28,
   "metadata": {},
   "outputs": [],
   "source": [
    "a_precision=[]\n",
    "a_recall=[]\n",
    "a_accuracy=[]\n",
    "a_balance_accuracy=[]\n",
    "a_f1=[]\n",
    "for tp, tn, fp, fn in zip(tpa, tna, fpa, fna):\n",
    "    precision=((tp)/(tp+fp))\n",
    "    a_precision.append(precision)\n",
    "    recall=((tp)/(tp+fn))\n",
    "    a_recall.append(recall)\n",
    "    accuracy=(tp+tn)/(tp+tn+fp+fn)\n",
    "    a_accuracy.append(accuracy)\n",
    "    \n",
    "    tpr=tp/(tp+fn)\n",
    "    tnr=tn/(tn+fp)\n",
    "    balance_accuracy=(tpr+tnr)/2\n",
    "    a_balance_accuracy.append(balance_accuracy)\n",
    "    \n",
    "    f1=2*((precision*recall)/(precision+recall))\n",
    "    a_f1.append(f1)"
   ]
  },
  {
   "cell_type": "code",
   "execution_count": 29,
   "metadata": {},
   "outputs": [
    {
     "data": {
      "image/png": "[encoded data removed]",
      "text/plain": [
       "<Figure size 432x288 with 1 Axes>"
      ]
     },
     "metadata": {
      "needs_background": "light"
     },
     "output_type": "display_data"
    }
   ],
   "source": [
    "fig, ax = plt.subplots()\n",
    "ax.plot(x,a_precision, label='precision')\n",
    "ax.plot(x,a_recall,label='recall')\n",
    "ax.plot(x,a_accuracy,label='accuracy')\n",
    "ax.plot(x,a_balance_accuracy,label='balance_accuracy')\n",
    "ax.plot(x,a_f1,label='f1')\n",
    "\n",
    "\n",
    "ax.set(xlabel='threshold', ylabel='metric scale')\n",
    "title='p1'\n",
    "ax.legend()\n",
    "\n",
    "#ax.set_ylim([0,1])\n",
    "#ax.xaxis.set_ticks(np.arange(0, 20, 1))\n",
    "ax.grid(True, zorder=5)\n",
    "#fig.savefig(\"results/exp2.png\")"
   ]
  },
  {
   "cell_type": "code",
   "execution_count": 30,
   "metadata": {},
   "outputs": [],
   "source": [
    "test=pd.read_csv('data/test.csv')"
   ]
  },
  {
   "cell_type": "code",
   "execution_count": 49,
   "metadata": {},
   "outputs": [],
   "source": [
    "results_test=[]\n",
    "quick_submission(threshold=.75, test=test, cv=cv, tfidf_transformer=tfidf_transformer)"
   ]
  },
  {
   "cell_type": "code",
   "execution_count": 51,
   "metadata": {},
   "outputs": [],
   "source": [
    "result_np=np.array(results_test)\n",
    "pd.DataFrame(result_np).to_csv(\"test75_v2.csv\",header=['id', 'is_duplicate'],index=False)"
   ]
  },
  {
   "cell_type": "code",
   "execution_count": null,
   "metadata": {},
   "outputs": [],
   "source": []
  }
 ],
 "metadata": {
  "kernelspec": {
   "display_name": "Python 3",
   "language": "python",
   "name": "python3"
  },
  "language_info": {
   "codemirror_mode": {
    "name": "ipython",
    "version": 3
   },
   "file_extension": ".py",
   "mimetype": "text/x-python",
   "name": "python",
   "nbconvert_exporter": "python",
   "pygments_lexer": "ipython3",
   "version": "3.7.3"
  }
 },
 "nbformat": 4,
 "nbformat_minor": 2
}
