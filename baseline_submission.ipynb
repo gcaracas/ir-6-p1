{
 "cells": [
  {
   "cell_type": "code",
   "execution_count": 1,
   "metadata": {},
   "outputs": [],
   "source": [
    "import pandas as pd\n",
    "import numpy as np\n",
    "from nltk.corpus import stopwords\n",
    "from nltk.tokenize import TweetTokenizer\n",
    "from sklearn.feature_extraction.text import TfidfVectorizer\n",
    "from collections import Counter as cnt\n",
    "import string\n",
    "from nltk.stem.porter import PorterStemmer\n",
    "import nltk\n",
    "from sklearn.metrics.pairwise import linear_kernel\n",
    "import csv"
   ]
  },
  {
   "cell_type": "code",
   "execution_count": 2,
   "metadata": {},
   "outputs": [
    {
     "data": {
      "text/plain": [
       "(388800, 6)"
      ]
     },
     "execution_count": 2,
     "metadata": {},
     "output_type": "execute_result"
    }
   ],
   "source": [
    "dev=pd.read_csv('data/devSet.csv')\n",
    "dev.shape"
   ]
  },
  {
   "cell_type": "code",
   "execution_count": 3,
   "metadata": {},
   "outputs": [],
   "source": [
    "q1=list(dev.question1)\n",
    "q2=list(dev.question2)\n",
    "dup=list(dev.is_duplicate)"
   ]
  },
  {
   "cell_type": "code",
   "execution_count": 4,
   "metadata": {},
   "outputs": [],
   "source": [
    "token_dict = {}\n",
    "stemmer = PorterStemmer()\n",
    "def stem_tokens(tokens, stemmer):\n",
    "    stemmed = []\n",
    "    for item in tokens:\n",
    "        stemmed.append(stemmer.stem(item))\n",
    "    return stemmed\n",
    "\n",
    "def tokenize(text):\n",
    "    tokens = nltk.word_tokenize(text)\n",
    "    stems = stem_tokens(tokens, stemmer)\n",
    "    return stems"
   ]
  },
  {
   "cell_type": "code",
   "execution_count": 5,
   "metadata": {},
   "outputs": [],
   "source": [
    "count=0\n",
    "for text1, text2 in zip(q1, q2):\n",
    "    if text1 is np.nan: continue\n",
    "    if text2 is np.nan: continue\n",
    "    if len(text1) == 0: continue\n",
    "    if len(text2) == 0: continue\n",
    "    count=count+1 #for q1 query id\n",
    "    token_dict[count] = text1\n",
    "    count=count+1 # for q2 query id\n",
    "    token_dict[count] = text2"
   ]
  },
  {
   "cell_type": "code",
   "execution_count": 6,
   "metadata": {},
   "outputs": [
    {
     "name": "stderr",
     "output_type": "stream",
     "text": [
      "//anaconda3/lib/python3.7/site-packages/sklearn/feature_extraction/text.py:300: UserWarning: Your stop_words may be inconsistent with your preprocessing. Tokenizing the stop words generated tokens ['abov', 'afterward', 'alon', 'alreadi', 'alway', 'ani', 'anoth', 'anyon', 'anyth', 'anywher', 'becam', 'becaus', 'becom', 'befor', 'besid', 'cri', 'describ', 'dure', 'els', 'elsewher', 'empti', 'everi', 'everyon', 'everyth', 'everywher', 'fifti', 'formerli', 'forti', 'ha', 'henc', 'hereaft', 'herebi', 'hi', 'howev', 'hundr', 'inde', 'latterli', 'mani', 'meanwhil', 'moreov', 'mostli', 'nobodi', 'noon', 'noth', 'nowher', 'onc', 'onli', 'otherwis', 'ourselv', 'perhap', 'pleas', 'seriou', 'sever', 'sinc', 'sincer', 'sixti', 'someon', 'someth', 'sometim', 'somewher', 'themselv', 'thenc', 'thereaft', 'therebi', 'therefor', 'thi', 'thu', 'togeth', 'twelv', 'twenti', 'veri', 'wa', 'whatev', 'whenc', 'whenev', 'wherea', 'whereaft', 'wherebi', 'wherev', 'whi', 'yourselv'] not in stop_words.\n",
      "  'stop_words.' % sorted(inconsistent))\n"
     ]
    }
   ],
   "source": [
    "tfidf = TfidfVectorizer(tokenizer=tokenize, stop_words='english',\n",
    "                       strip_accents='ascii')\n",
    "tfs = tfidf.fit_transform(token_dict.values())"
   ]
  },
  {
   "cell_type": "code",
   "execution_count": 16,
   "metadata": {},
   "outputs": [],
   "source": [
    "count=0\n",
    "dup_count=0\n",
    "correct=0\n",
    "for d in dup:\n",
    "    q1=tfs[count:count+1]\n",
    "    count=count+1\n",
    "    q2=tfs[count:count+1]\n",
    "    count=count+1\n",
    "    \n",
    "    if (q1).shape[0] < 1:\n",
    "        continue\n",
    "    if (q2).shape[0] < 1:\n",
    "        continue\n",
    "    cosine_similarities = linear_kernel(q1, q2).flatten()\n",
    "    if d == 1:\n",
    "        dup_count=dup_count+1\n",
    "        if cosine_similarities[0] > 0.5:\n",
    "            correct=correct+1"
   ]
  },
  {
   "cell_type": "code",
   "execution_count": 17,
   "metadata": {},
   "outputs": [
    {
     "name": "stdout",
     "output_type": "stream",
     "text": [
      "Precision = 0.6543577581697066\n"
     ]
    }
   ],
   "source": [
    "precision=correct/dup_count\n",
    "print('Precision = {}'.format(precision))"
   ]
  },
  {
   "cell_type": "code",
   "execution_count": 18,
   "metadata": {},
   "outputs": [],
   "source": [
    "test=pd.read_csv('data/test.csv')"
   ]
  },
  {
   "cell_type": "code",
   "execution_count": 19,
   "metadata": {},
   "outputs": [
    {
     "name": "stdout",
     "output_type": "stream",
     "text": [
      "done\n"
     ]
    }
   ],
   "source": [
    "results_test=[]\n",
    "def calculate_cosine_similarity(x):\n",
    "    global tfidf\n",
    "    global results_test\n",
    "    id=x[0]\n",
    "    qid1=x[1]\n",
    "    qid2=x[2]\n",
    "    question1=x[3]\n",
    "    question2=x[4]\n",
    "    \n",
    "    if question1 is np.nan:\n",
    "        results_test.append((id, 0))\n",
    "        return\n",
    "    if question2 is np.nan:\n",
    "        results_test.append((id, 0))\n",
    "        return\n",
    "    if len(question1) == 0:\n",
    "        results_test.append((id, 0))\n",
    "        return\n",
    "    if len(question2) == 0:\n",
    "        results_test.append((id, 0))\n",
    "        return \n",
    "    \n",
    "    q1_vector= tfidf.transform([question1])\n",
    "    q2_vector= tfidf.transform([question2])\n",
    "    cosine_similarities = linear_kernel(q1_vector, q2_vector).flatten()\n",
    "    if cosine_similarities[0] > 0.5:\n",
    "        results_test.append((id, 1))\n",
    "    else:\n",
    "        results_test.append((id, 0))\n",
    "test.apply(lambda x: calculate_cosine_similarity(x), axis=1)\n",
    "print('done')"
   ]
  },
  {
   "cell_type": "code",
   "execution_count": 20,
   "metadata": {},
   "outputs": [
    {
     "data": {
      "text/plain": [
       "15490"
      ]
     },
     "execution_count": 20,
     "metadata": {},
     "output_type": "execute_result"
    }
   ],
   "source": [
    "len(results_test)"
   ]
  },
  {
   "cell_type": "code",
   "execution_count": 21,
   "metadata": {},
   "outputs": [
    {
     "data": {
      "text/plain": [
       "15490"
      ]
     },
     "execution_count": 21,
     "metadata": {},
     "output_type": "execute_result"
    }
   ],
   "source": [
    "15490"
   ]
  },
  {
   "cell_type": "code",
   "execution_count": 23,
   "metadata": {},
   "outputs": [],
   "source": [
    "result_np=np.array(results_test)\n",
    "pd.DataFrame(result_np).to_csv(\"test.csv\",header=['id', 'is_duplicate'],index=False)"
   ]
  },
  {
   "cell_type": "code",
   "execution_count": 14,
   "metadata": {},
   "outputs": [
    {
     "data": {
      "text/plain": [
       "1"
      ]
     },
     "execution_count": 14,
     "metadata": {},
     "output_type": "execute_result"
    }
   ],
   "source": [
    "(tfs[0:1]).shape[0]"
   ]
  },
  {
   "cell_type": "code",
   "execution_count": null,
   "metadata": {},
   "outputs": [],
   "source": []
  }
 ],
 "metadata": {
  "kernelspec": {
   "display_name": "Python 3",
   "language": "python",
   "name": "python3"
  },
  "language_info": {
   "codemirror_mode": {
    "name": "ipython",
    "version": 3
   },
   "file_extension": ".py",
   "mimetype": "text/x-python",
   "name": "python",
   "nbconvert_exporter": "python",
   "pygments_lexer": "ipython3",
   "version": "3.7.3"
  }
 },
 "nbformat": 4,
 "nbformat_minor": 2
}
